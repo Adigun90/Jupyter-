{
 "cells": [
  {
   "cell_type": "code",
   "execution_count": 2,
   "id": "2e29710e",
   "metadata": {},
   "outputs": [
    {
     "name": "stdout",
     "output_type": "stream",
     "text": [
      "   Student ID        Name  Age Grade Level  Math Score  English Score  \\\n",
      "0           1   Student 1   16         8th   65.077425      84.736323   \n",
      "1           2   Student 2   17         9th   85.112853      52.285737   \n",
      "2           3   Student 3   12        11th   89.004401      71.349157   \n",
      "3           4   Student 4   15         9th   68.450083      59.406326   \n",
      "4           5   Student 5   15         7th   72.442093      70.783375   \n",
      "5           6   Student 6   15        12th   67.856144      49.876313   \n",
      "6           7   Student 7   13        10th   69.991612      90.744135   \n",
      "7           8   Student 8   15         9th   75.556453      75.803693   \n",
      "8           9   Student 9   17         9th   70.110382      50.013202   \n",
      "9          10  Student 10   14        12th   71.200776      77.557262   \n",
      "\n",
      "   Science Score  Agric Score  \n",
      "0      81.243249    82.266191  \n",
      "1      76.226347    95.888576  \n",
      "2      88.497157    67.928520  \n",
      "3      78.036267    70.429845  \n",
      "4      75.687524    78.695055  \n",
      "5      85.412280    84.748187  \n",
      "6      79.251089    71.314865  \n",
      "7      74.926038    56.439534  \n",
      "8      83.444763    75.502134  \n",
      "9      68.294458    70.888222  \n"
     ]
    }
   ],
   "source": [
    "     import pandas as pd\n",
    "     import numpy as np\n",
    "\n",
    "     np.random.seed(0)  # For reproducibility\n",
    "     num_students = 100\n",
    "\n",
    "     data = {\n",
    "         'Student ID': range(1, num_students + 1),\n",
    "         'Name': [f'Student {i}' for i in range(1, num_students + 1)],\n",
    "         'Age': np.random.randint(12, 18, size=num_students),\n",
    "         'Grade Level': np.random.choice(['7th', '8th', '9th', '10th', '11th', '12th'], num_students),\n",
    "         'Math Score': np.random.normal(75, 10, size=num_students).clip(0, 100),\n",
    "         'English Score': np.random.normal(70, 15, size=num_students).clip(0, 100),\n",
    "         'Science Score': np.random.normal(80, 5, size=num_students).clip(0, 100),\n",
    "         'Agric Score' : np.random.normal(75, 10, size=num_students).clip(0, 100)\n",
    "     }\n",
    "\n",
    "     df = pd.DataFrame(data)\n",
    "     print(df.head(10))\n",
    "     "
   ]
  },
  {
   "cell_type": "code",
   "execution_count": 3,
   "id": "bdf04bfd",
   "metadata": {},
   "outputs": [
    {
     "data": {
      "text/plain": [
       "7458.999930376083"
      ]
     },
     "execution_count": 3,
     "metadata": {},
     "output_type": "execute_result"
    }
   ],
   "source": [
    "df_Agric Score.sum()"
   ]
  },
  {
   "cell_type": "code",
   "execution_count": 8,
   "id": "f53d4e46",
   "metadata": {},
   "outputs": [
    {
     "data": {
      "text/plain": [
       "15    20\n",
       "12    19\n",
       "16    18\n",
       "13    18\n",
       "17    14\n",
       "14    11\n",
       "Name: Age, dtype: int64"
      ]
     },
     "execution_count": 8,
     "metadata": {},
     "output_type": "execute_result"
    }
   ],
   "source": [
    "df.Age.value_counts()"
   ]
  },
  {
   "cell_type": "code",
   "execution_count": 9,
   "id": "1a187ce8",
   "metadata": {},
   "outputs": [
    {
     "ename": "AttributeError",
     "evalue": "'DataFrame' object has no attribute 'Level'",
     "output_type": "error",
     "traceback": [
      "\u001b[1;31m---------------------------------------------------------------------------\u001b[0m",
      "\u001b[1;31mAttributeError\u001b[0m                            Traceback (most recent call last)",
      "Input \u001b[1;32mIn [9]\u001b[0m, in \u001b[0;36m<cell line: 1>\u001b[1;34m()\u001b[0m\n\u001b[1;32m----> 1\u001b[0m \u001b[43mdf\u001b[49m\u001b[38;5;241;43m.\u001b[39;49m\u001b[43mLevel\u001b[49m\u001b[38;5;241m.\u001b[39mvalue_counts()\n",
      "File \u001b[1;32m~\\anaconda3me\\lib\\site-packages\\pandas\\core\\generic.py:5575\u001b[0m, in \u001b[0;36mNDFrame.__getattr__\u001b[1;34m(self, name)\u001b[0m\n\u001b[0;32m   5568\u001b[0m \u001b[38;5;28;01mif\u001b[39;00m (\n\u001b[0;32m   5569\u001b[0m     name \u001b[38;5;129;01mnot\u001b[39;00m \u001b[38;5;129;01min\u001b[39;00m \u001b[38;5;28mself\u001b[39m\u001b[38;5;241m.\u001b[39m_internal_names_set\n\u001b[0;32m   5570\u001b[0m     \u001b[38;5;129;01mand\u001b[39;00m name \u001b[38;5;129;01mnot\u001b[39;00m \u001b[38;5;129;01min\u001b[39;00m \u001b[38;5;28mself\u001b[39m\u001b[38;5;241m.\u001b[39m_metadata\n\u001b[0;32m   5571\u001b[0m     \u001b[38;5;129;01mand\u001b[39;00m name \u001b[38;5;129;01mnot\u001b[39;00m \u001b[38;5;129;01min\u001b[39;00m \u001b[38;5;28mself\u001b[39m\u001b[38;5;241m.\u001b[39m_accessors\n\u001b[0;32m   5572\u001b[0m     \u001b[38;5;129;01mand\u001b[39;00m \u001b[38;5;28mself\u001b[39m\u001b[38;5;241m.\u001b[39m_info_axis\u001b[38;5;241m.\u001b[39m_can_hold_identifiers_and_holds_name(name)\n\u001b[0;32m   5573\u001b[0m ):\n\u001b[0;32m   5574\u001b[0m     \u001b[38;5;28;01mreturn\u001b[39;00m \u001b[38;5;28mself\u001b[39m[name]\n\u001b[1;32m-> 5575\u001b[0m \u001b[38;5;28;01mreturn\u001b[39;00m \u001b[38;5;28;43mobject\u001b[39;49m\u001b[38;5;241;43m.\u001b[39;49m\u001b[38;5;21;43m__getattribute__\u001b[39;49m\u001b[43m(\u001b[49m\u001b[38;5;28;43mself\u001b[39;49m\u001b[43m,\u001b[49m\u001b[43m \u001b[49m\u001b[43mname\u001b[49m\u001b[43m)\u001b[49m\n",
      "\u001b[1;31mAttributeError\u001b[0m: 'DataFrame' object has no attribute 'Level'"
     ]
    }
   ],
   "source": [
    "df.Level.value_counts()"
   ]
  },
  {
   "cell_type": "code",
   "execution_count": 10,
   "id": "0d7207b7",
   "metadata": {},
   "outputs": [
    {
     "name": "stdout",
     "output_type": "stream",
     "text": [
      "Collecting faker\n",
      "  Downloading Faker-30.1.0-py3-none-any.whl (1.8 MB)\n",
      "Requirement already satisfied: python-dateutil>=2.4 in c:\\users\\hp\\anaconda3me\\lib\\site-packages (from faker) (2.8.2)\n",
      "Requirement already satisfied: typing-extensions in c:\\users\\hp\\anaconda3me\\lib\\site-packages (from faker) (4.12.2)\n",
      "Requirement already satisfied: six>=1.5 in c:\\users\\hp\\anaconda3me\\lib\\site-packages (from python-dateutil>=2.4->faker) (1.16.0)\n",
      "Installing collected packages: faker\n",
      "Successfully installed faker-30.1.0\n",
      "Note: you may need to restart the kernel to use updated packages.\n"
     ]
    }
   ],
   "source": [
    "pip install faker\n"
   ]
  },
  {
   "cell_type": "code",
   "execution_count": 11,
   "id": "b9b332d1",
   "metadata": {},
   "outputs": [],
   "source": [
    "from faker import Faker"
   ]
  },
  {
   "cell_type": "code",
   "execution_count": 12,
   "id": "82e3e782",
   "metadata": {},
   "outputs": [],
   "source": [
    "fake = Faker()"
   ]
  },
  {
   "cell_type": "code",
   "execution_count": 13,
   "id": "787fee2c",
   "metadata": {},
   "outputs": [
    {
     "data": {
      "text/plain": [
       "'Vanessa Berry'"
      ]
     },
     "execution_count": 13,
     "metadata": {},
     "output_type": "execute_result"
    }
   ],
   "source": [
    "fake.name()"
   ]
  },
  {
   "cell_type": "code",
   "execution_count": 14,
   "id": "e67f0276",
   "metadata": {},
   "outputs": [
    {
     "data": {
      "text/plain": [
       "'Unit 5274 Box 9929\\nDPO AA 45079'"
      ]
     },
     "execution_count": 14,
     "metadata": {},
     "output_type": "execute_result"
    }
   ],
   "source": [
    "fake.address()"
   ]
  },
  {
   "cell_type": "code",
   "execution_count": 15,
   "id": "4d1c2952",
   "metadata": {},
   "outputs": [
    {
     "data": {
      "text/plain": [
       "'32788 Carney Plain Suite 765'"
      ]
     },
     "execution_count": 15,
     "metadata": {},
     "output_type": "execute_result"
    }
   ],
   "source": [
    "fake.street_address()"
   ]
  },
  {
   "cell_type": "code",
   "execution_count": 20,
   "id": "6befab36",
   "metadata": {},
   "outputs": [
    {
     "data": {
      "text/plain": [
       "datetime.date(1987, 1, 12)"
      ]
     },
     "execution_count": 20,
     "metadata": {},
     "output_type": "execute_result"
    }
   ],
   "source": [
    "fake.date_of_birth()"
   ]
  },
  {
   "cell_type": "code",
   "execution_count": 22,
   "id": "110808e0",
   "metadata": {},
   "outputs": [
    {
     "data": {
      "text/html": [
       "<div>\n",
       "<style scoped>\n",
       "    .dataframe tbody tr th:only-of-type {\n",
       "        vertical-align: middle;\n",
       "    }\n",
       "\n",
       "    .dataframe tbody tr th {\n",
       "        vertical-align: top;\n",
       "    }\n",
       "\n",
       "    .dataframe thead th {\n",
       "        text-align: right;\n",
       "    }\n",
       "</style>\n",
       "<table border=\"1\" class=\"dataframe\">\n",
       "  <thead>\n",
       "    <tr style=\"text-align: right;\">\n",
       "      <th></th>\n",
       "      <th>name</th>\n",
       "      <th>address</th>\n",
       "      <th>birthday</th>\n",
       "      <th>email</th>\n",
       "    </tr>\n",
       "  </thead>\n",
       "  <tbody>\n",
       "    <tr>\n",
       "      <th>0</th>\n",
       "      <td>Kelly Lopez</td>\n",
       "      <td>1815 Haney Common\\nClaytonview, ID 10653</td>\n",
       "      <td>2012-10-28</td>\n",
       "      <td>stevenflores@example.org</td>\n",
       "    </tr>\n",
       "    <tr>\n",
       "      <th>1</th>\n",
       "      <td>Maria Hughes</td>\n",
       "      <td>64698 Donna Spring Suite 596\\nLake Robert, MH ...</td>\n",
       "      <td>1933-04-16</td>\n",
       "      <td>sanderszachary@example.org</td>\n",
       "    </tr>\n",
       "    <tr>\n",
       "      <th>2</th>\n",
       "      <td>Phillip Cook</td>\n",
       "      <td>112 Higgins Causeway Apt. 111\\nMartinbury, WI ...</td>\n",
       "      <td>1919-08-01</td>\n",
       "      <td>daniellee@example.org</td>\n",
       "    </tr>\n",
       "    <tr>\n",
       "      <th>3</th>\n",
       "      <td>Michelle Watson</td>\n",
       "      <td>426 Patrick Wall\\nNorth Bryanmouth, WI 48229</td>\n",
       "      <td>1968-11-25</td>\n",
       "      <td>kim53@example.com</td>\n",
       "    </tr>\n",
       "    <tr>\n",
       "      <th>4</th>\n",
       "      <td>Sergio Bryan</td>\n",
       "      <td>29905 Olsen Key\\nWelchshire, KY 18484</td>\n",
       "      <td>1978-11-06</td>\n",
       "      <td>barkerkatie@example.org</td>\n",
       "    </tr>\n",
       "    <tr>\n",
       "      <th>...</th>\n",
       "      <td>...</td>\n",
       "      <td>...</td>\n",
       "      <td>...</td>\n",
       "      <td>...</td>\n",
       "    </tr>\n",
       "    <tr>\n",
       "      <th>95</th>\n",
       "      <td>Trevor Wood</td>\n",
       "      <td>4991 Cannon Common\\nNorth Melissachester, RI 8...</td>\n",
       "      <td>2016-12-23</td>\n",
       "      <td>dawn82@example.com</td>\n",
       "    </tr>\n",
       "    <tr>\n",
       "      <th>96</th>\n",
       "      <td>Dr. Jodi Mason</td>\n",
       "      <td>23030 Smith Dam Apt. 737\\nTerryview, MA 29304</td>\n",
       "      <td>1948-05-29</td>\n",
       "      <td>xlopez@example.org</td>\n",
       "    </tr>\n",
       "    <tr>\n",
       "      <th>97</th>\n",
       "      <td>Nicholas King</td>\n",
       "      <td>PSC 4892, Box 5210\\nAPO AA 05193</td>\n",
       "      <td>1931-07-25</td>\n",
       "      <td>hwall@example.net</td>\n",
       "    </tr>\n",
       "    <tr>\n",
       "      <th>98</th>\n",
       "      <td>Robert Gomez</td>\n",
       "      <td>5034 Miller Dam Apt. 603\\nSouth Steven, GA 68229</td>\n",
       "      <td>1994-03-06</td>\n",
       "      <td>moralesdale@example.com</td>\n",
       "    </tr>\n",
       "    <tr>\n",
       "      <th>99</th>\n",
       "      <td>Amy Long</td>\n",
       "      <td>901 Deanna Flat Suite 403\\nWilliamsport, RI 24847</td>\n",
       "      <td>1923-05-06</td>\n",
       "      <td>eugene87@example.org</td>\n",
       "    </tr>\n",
       "  </tbody>\n",
       "</table>\n",
       "<p>100 rows × 4 columns</p>\n",
       "</div>"
      ],
      "text/plain": [
       "               name                                            address  \\\n",
       "0       Kelly Lopez           1815 Haney Common\\nClaytonview, ID 10653   \n",
       "1      Maria Hughes  64698 Donna Spring Suite 596\\nLake Robert, MH ...   \n",
       "2      Phillip Cook  112 Higgins Causeway Apt. 111\\nMartinbury, WI ...   \n",
       "3   Michelle Watson       426 Patrick Wall\\nNorth Bryanmouth, WI 48229   \n",
       "4      Sergio Bryan              29905 Olsen Key\\nWelchshire, KY 18484   \n",
       "..              ...                                                ...   \n",
       "95      Trevor Wood  4991 Cannon Common\\nNorth Melissachester, RI 8...   \n",
       "96   Dr. Jodi Mason      23030 Smith Dam Apt. 737\\nTerryview, MA 29304   \n",
       "97    Nicholas King                   PSC 4892, Box 5210\\nAPO AA 05193   \n",
       "98     Robert Gomez   5034 Miller Dam Apt. 603\\nSouth Steven, GA 68229   \n",
       "99         Amy Long  901 Deanna Flat Suite 403\\nWilliamsport, RI 24847   \n",
       "\n",
       "      birthday                       email  \n",
       "0   2012-10-28    stevenflores@example.org  \n",
       "1   1933-04-16  sanderszachary@example.org  \n",
       "2   1919-08-01       daniellee@example.org  \n",
       "3   1968-11-25           kim53@example.com  \n",
       "4   1978-11-06     barkerkatie@example.org  \n",
       "..         ...                         ...  \n",
       "95  2016-12-23          dawn82@example.com  \n",
       "96  1948-05-29          xlopez@example.org  \n",
       "97  1931-07-25           hwall@example.net  \n",
       "98  1994-03-06     moralesdale@example.com  \n",
       "99  1923-05-06        eugene87@example.org  \n",
       "\n",
       "[100 rows x 4 columns]"
      ]
     },
     "execution_count": 22,
     "metadata": {},
     "output_type": "execute_result"
    }
   ],
   "source": [
    "df = pd.DataFrame(\n",
    "    [\n",
    "        {\n",
    "            \"name\": fake.name(),\n",
    "            \"address\": fake.address(),\n",
    "            \"birthday\": fake.date_of_birth(),\n",
    "            \"email\" : fake.email(),\n",
    "        }\n",
    "        \n",
    "        for x in range(100)\n",
    "    ]\n",
    "\n",
    ")\n",
    "\n",
    "df.head(100)"
   ]
  },
  {
   "cell_type": "code",
   "execution_count": null,
   "id": "c6517754",
   "metadata": {},
   "outputs": [],
   "source": []
  }
 ],
 "metadata": {
  "kernelspec": {
   "display_name": "Python 3 (ipykernel)",
   "language": "python",
   "name": "python3"
  },
  "language_info": {
   "codemirror_mode": {
    "name": "ipython",
    "version": 3
   },
   "file_extension": ".py",
   "mimetype": "text/x-python",
   "name": "python",
   "nbconvert_exporter": "python",
   "pygments_lexer": "ipython3",
   "version": "3.9.12"
  }
 },
 "nbformat": 4,
 "nbformat_minor": 5
}
