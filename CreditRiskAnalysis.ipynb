{
 "cells": [
  {
   "cell_type": "code",
   "execution_count": 1,
   "id": "7ceb5a31",
   "metadata": {},
   "outputs": [],
   "source": [
    "import pandas as pd, seaborn as sns, matplotlib.pyplot as plt"
   ]
  },
  {
   "cell_type": "code",
   "execution_count": 2,
   "id": "5288a151",
   "metadata": {},
   "outputs": [
    {
     "data": {
      "text/html": [
       "<div>\n",
       "<style scoped>\n",
       "    .dataframe tbody tr th:only-of-type {\n",
       "        vertical-align: middle;\n",
       "    }\n",
       "\n",
       "    .dataframe tbody tr th {\n",
       "        vertical-align: top;\n",
       "    }\n",
       "\n",
       "    .dataframe thead th {\n",
       "        text-align: right;\n",
       "    }\n",
       "</style>\n",
       "<table border=\"1\" class=\"dataframe\">\n",
       "  <thead>\n",
       "    <tr style=\"text-align: right;\">\n",
       "      <th></th>\n",
       "      <th>person_age</th>\n",
       "      <th>person_income</th>\n",
       "      <th>person_home_ownership</th>\n",
       "      <th>person_emp_length</th>\n",
       "      <th>loan_intent</th>\n",
       "      <th>loan_grade</th>\n",
       "      <th>loan_amnt</th>\n",
       "      <th>loan_int_rate</th>\n",
       "      <th>loan_status</th>\n",
       "      <th>loan_percent_income</th>\n",
       "      <th>cb_person_default_on_file</th>\n",
       "      <th>cb_person_cred_hist_length</th>\n",
       "    </tr>\n",
       "  </thead>\n",
       "  <tbody>\n",
       "    <tr>\n",
       "      <th>0</th>\n",
       "      <td>22</td>\n",
       "      <td>59000</td>\n",
       "      <td>RENT</td>\n",
       "      <td>123.0</td>\n",
       "      <td>PERSONAL</td>\n",
       "      <td>D</td>\n",
       "      <td>35000</td>\n",
       "      <td>16.02</td>\n",
       "      <td>1</td>\n",
       "      <td>0.59</td>\n",
       "      <td>Y</td>\n",
       "      <td>3</td>\n",
       "    </tr>\n",
       "    <tr>\n",
       "      <th>1</th>\n",
       "      <td>21</td>\n",
       "      <td>9600</td>\n",
       "      <td>OWN</td>\n",
       "      <td>5.0</td>\n",
       "      <td>EDUCATION</td>\n",
       "      <td>B</td>\n",
       "      <td>1000</td>\n",
       "      <td>11.14</td>\n",
       "      <td>0</td>\n",
       "      <td>0.10</td>\n",
       "      <td>N</td>\n",
       "      <td>2</td>\n",
       "    </tr>\n",
       "    <tr>\n",
       "      <th>2</th>\n",
       "      <td>25</td>\n",
       "      <td>9600</td>\n",
       "      <td>MORTGAGE</td>\n",
       "      <td>1.0</td>\n",
       "      <td>MEDICAL</td>\n",
       "      <td>C</td>\n",
       "      <td>5500</td>\n",
       "      <td>12.87</td>\n",
       "      <td>1</td>\n",
       "      <td>0.57</td>\n",
       "      <td>N</td>\n",
       "      <td>3</td>\n",
       "    </tr>\n",
       "    <tr>\n",
       "      <th>3</th>\n",
       "      <td>23</td>\n",
       "      <td>65500</td>\n",
       "      <td>RENT</td>\n",
       "      <td>4.0</td>\n",
       "      <td>MEDICAL</td>\n",
       "      <td>C</td>\n",
       "      <td>35000</td>\n",
       "      <td>15.23</td>\n",
       "      <td>1</td>\n",
       "      <td>0.53</td>\n",
       "      <td>N</td>\n",
       "      <td>2</td>\n",
       "    </tr>\n",
       "    <tr>\n",
       "      <th>4</th>\n",
       "      <td>24</td>\n",
       "      <td>54400</td>\n",
       "      <td>RENT</td>\n",
       "      <td>8.0</td>\n",
       "      <td>MEDICAL</td>\n",
       "      <td>C</td>\n",
       "      <td>35000</td>\n",
       "      <td>14.27</td>\n",
       "      <td>1</td>\n",
       "      <td>0.55</td>\n",
       "      <td>Y</td>\n",
       "      <td>4</td>\n",
       "    </tr>\n",
       "  </tbody>\n",
       "</table>\n",
       "</div>"
      ],
      "text/plain": [
       "   person_age  person_income person_home_ownership  person_emp_length  \\\n",
       "0          22          59000                  RENT              123.0   \n",
       "1          21           9600                   OWN                5.0   \n",
       "2          25           9600              MORTGAGE                1.0   \n",
       "3          23          65500                  RENT                4.0   \n",
       "4          24          54400                  RENT                8.0   \n",
       "\n",
       "  loan_intent loan_grade  loan_amnt  loan_int_rate  loan_status  \\\n",
       "0    PERSONAL          D      35000          16.02            1   \n",
       "1   EDUCATION          B       1000          11.14            0   \n",
       "2     MEDICAL          C       5500          12.87            1   \n",
       "3     MEDICAL          C      35000          15.23            1   \n",
       "4     MEDICAL          C      35000          14.27            1   \n",
       "\n",
       "   loan_percent_income cb_person_default_on_file  cb_person_cred_hist_length  \n",
       "0                 0.59                         Y                           3  \n",
       "1                 0.10                         N                           2  \n",
       "2                 0.57                         N                           3  \n",
       "3                 0.53                         N                           2  \n",
       "4                 0.55                         Y                           4  "
      ]
     },
     "execution_count": 2,
     "metadata": {},
     "output_type": "execute_result"
    }
   ],
   "source": [
    "cre =  pd.read_csv('credit_risk_dataset.csv')\n",
    "cre.head()"
   ]
  },
  {
   "cell_type": "code",
   "execution_count": 3,
   "id": "95f35cd6",
   "metadata": {},
   "outputs": [
    {
     "data": {
      "text/html": [
       "<div>\n",
       "<style scoped>\n",
       "    .dataframe tbody tr th:only-of-type {\n",
       "        vertical-align: middle;\n",
       "    }\n",
       "\n",
       "    .dataframe tbody tr th {\n",
       "        vertical-align: top;\n",
       "    }\n",
       "\n",
       "    .dataframe thead th {\n",
       "        text-align: right;\n",
       "    }\n",
       "</style>\n",
       "<table border=\"1\" class=\"dataframe\">\n",
       "  <thead>\n",
       "    <tr style=\"text-align: right;\">\n",
       "      <th></th>\n",
       "      <th>person_age</th>\n",
       "      <th>person_income</th>\n",
       "      <th>person_emp_length</th>\n",
       "      <th>loan_amnt</th>\n",
       "      <th>loan_int_rate</th>\n",
       "      <th>loan_status</th>\n",
       "      <th>loan_percent_income</th>\n",
       "      <th>cb_person_cred_hist_length</th>\n",
       "    </tr>\n",
       "  </thead>\n",
       "  <tbody>\n",
       "    <tr>\n",
       "      <th>count</th>\n",
       "      <td>32581.000000</td>\n",
       "      <td>3.258100e+04</td>\n",
       "      <td>31686.000000</td>\n",
       "      <td>32581.000000</td>\n",
       "      <td>29465.000000</td>\n",
       "      <td>32581.000000</td>\n",
       "      <td>32581.000000</td>\n",
       "      <td>32581.000000</td>\n",
       "    </tr>\n",
       "    <tr>\n",
       "      <th>mean</th>\n",
       "      <td>27.734600</td>\n",
       "      <td>6.607485e+04</td>\n",
       "      <td>4.789686</td>\n",
       "      <td>9589.371106</td>\n",
       "      <td>11.011695</td>\n",
       "      <td>0.218164</td>\n",
       "      <td>0.170203</td>\n",
       "      <td>5.804211</td>\n",
       "    </tr>\n",
       "    <tr>\n",
       "      <th>std</th>\n",
       "      <td>6.348078</td>\n",
       "      <td>6.198312e+04</td>\n",
       "      <td>4.142630</td>\n",
       "      <td>6322.086646</td>\n",
       "      <td>3.240459</td>\n",
       "      <td>0.413006</td>\n",
       "      <td>0.106782</td>\n",
       "      <td>4.055001</td>\n",
       "    </tr>\n",
       "    <tr>\n",
       "      <th>min</th>\n",
       "      <td>20.000000</td>\n",
       "      <td>4.000000e+03</td>\n",
       "      <td>0.000000</td>\n",
       "      <td>500.000000</td>\n",
       "      <td>5.420000</td>\n",
       "      <td>0.000000</td>\n",
       "      <td>0.000000</td>\n",
       "      <td>2.000000</td>\n",
       "    </tr>\n",
       "    <tr>\n",
       "      <th>25%</th>\n",
       "      <td>23.000000</td>\n",
       "      <td>3.850000e+04</td>\n",
       "      <td>2.000000</td>\n",
       "      <td>5000.000000</td>\n",
       "      <td>7.900000</td>\n",
       "      <td>0.000000</td>\n",
       "      <td>0.090000</td>\n",
       "      <td>3.000000</td>\n",
       "    </tr>\n",
       "    <tr>\n",
       "      <th>50%</th>\n",
       "      <td>26.000000</td>\n",
       "      <td>5.500000e+04</td>\n",
       "      <td>4.000000</td>\n",
       "      <td>8000.000000</td>\n",
       "      <td>10.990000</td>\n",
       "      <td>0.000000</td>\n",
       "      <td>0.150000</td>\n",
       "      <td>4.000000</td>\n",
       "    </tr>\n",
       "    <tr>\n",
       "      <th>75%</th>\n",
       "      <td>30.000000</td>\n",
       "      <td>7.920000e+04</td>\n",
       "      <td>7.000000</td>\n",
       "      <td>12200.000000</td>\n",
       "      <td>13.470000</td>\n",
       "      <td>0.000000</td>\n",
       "      <td>0.230000</td>\n",
       "      <td>8.000000</td>\n",
       "    </tr>\n",
       "    <tr>\n",
       "      <th>max</th>\n",
       "      <td>144.000000</td>\n",
       "      <td>6.000000e+06</td>\n",
       "      <td>123.000000</td>\n",
       "      <td>35000.000000</td>\n",
       "      <td>23.220000</td>\n",
       "      <td>1.000000</td>\n",
       "      <td>0.830000</td>\n",
       "      <td>30.000000</td>\n",
       "    </tr>\n",
       "  </tbody>\n",
       "</table>\n",
       "</div>"
      ],
      "text/plain": [
       "         person_age  person_income  person_emp_length     loan_amnt  \\\n",
       "count  32581.000000   3.258100e+04       31686.000000  32581.000000   \n",
       "mean      27.734600   6.607485e+04           4.789686   9589.371106   \n",
       "std        6.348078   6.198312e+04           4.142630   6322.086646   \n",
       "min       20.000000   4.000000e+03           0.000000    500.000000   \n",
       "25%       23.000000   3.850000e+04           2.000000   5000.000000   \n",
       "50%       26.000000   5.500000e+04           4.000000   8000.000000   \n",
       "75%       30.000000   7.920000e+04           7.000000  12200.000000   \n",
       "max      144.000000   6.000000e+06         123.000000  35000.000000   \n",
       "\n",
       "       loan_int_rate   loan_status  loan_percent_income  \\\n",
       "count   29465.000000  32581.000000         32581.000000   \n",
       "mean       11.011695      0.218164             0.170203   \n",
       "std         3.240459      0.413006             0.106782   \n",
       "min         5.420000      0.000000             0.000000   \n",
       "25%         7.900000      0.000000             0.090000   \n",
       "50%        10.990000      0.000000             0.150000   \n",
       "75%        13.470000      0.000000             0.230000   \n",
       "max        23.220000      1.000000             0.830000   \n",
       "\n",
       "       cb_person_cred_hist_length  \n",
       "count                32581.000000  \n",
       "mean                     5.804211  \n",
       "std                      4.055001  \n",
       "min                      2.000000  \n",
       "25%                      3.000000  \n",
       "50%                      4.000000  \n",
       "75%                      8.000000  \n",
       "max                     30.000000  "
      ]
     },
     "execution_count": 3,
     "metadata": {},
     "output_type": "execute_result"
    }
   ],
   "source": [
    "cre.describe()"
   ]
  },
  {
   "cell_type": "code",
   "execution_count": 4,
   "id": "98545b38",
   "metadata": {},
   "outputs": [
    {
     "name": "stdout",
     "output_type": "stream",
     "text": [
      "<class 'pandas.core.frame.DataFrame'>\n",
      "RangeIndex: 32581 entries, 0 to 32580\n",
      "Data columns (total 12 columns):\n",
      " #   Column                      Non-Null Count  Dtype  \n",
      "---  ------                      --------------  -----  \n",
      " 0   person_age                  32581 non-null  int64  \n",
      " 1   person_income               32581 non-null  int64  \n",
      " 2   person_home_ownership       32581 non-null  object \n",
      " 3   person_emp_length           31686 non-null  float64\n",
      " 4   loan_intent                 32581 non-null  object \n",
      " 5   loan_grade                  32581 non-null  object \n",
      " 6   loan_amnt                   32581 non-null  int64  \n",
      " 7   loan_int_rate               29465 non-null  float64\n",
      " 8   loan_status                 32581 non-null  int64  \n",
      " 9   loan_percent_income         32581 non-null  float64\n",
      " 10  cb_person_default_on_file   32581 non-null  object \n",
      " 11  cb_person_cred_hist_length  32581 non-null  int64  \n",
      "dtypes: float64(3), int64(5), object(4)\n",
      "memory usage: 3.0+ MB\n"
     ]
    }
   ],
   "source": [
    "cre.info()"
   ]
  },
  {
   "cell_type": "code",
   "execution_count": 5,
   "id": "5df55b95",
   "metadata": {},
   "outputs": [
    {
     "data": {
      "text/plain": [
       "(32581, 12)"
      ]
     },
     "execution_count": 5,
     "metadata": {},
     "output_type": "execute_result"
    }
   ],
   "source": [
    "cre.shape"
   ]
  },
  {
   "cell_type": "code",
   "execution_count": 6,
   "id": "0e38e07a",
   "metadata": {},
   "outputs": [
    {
     "name": "stdout",
     "output_type": "stream",
     "text": [
      "Rows with missing values:\n",
      "39       True\n",
      "50       True\n",
      "57       True\n",
      "59       True\n",
      "62       True\n",
      "         ... \n",
      "32547    True\n",
      "32552    True\n",
      "32553    True\n",
      "32569    True\n",
      "32570    True\n",
      "Length: 3943, dtype: bool\n"
     ]
    }
   ],
   "source": [
    "miss_cre = cre.isnull().any(axis=1) \n",
    "print(\"Rows with missing values:\")\n",
    "print(miss_cre[miss_cre==True])"
   ]
  },
  {
   "cell_type": "code",
   "execution_count": 7,
   "id": "358cfc56",
   "metadata": {},
   "outputs": [
    {
     "name": "stdout",
     "output_type": "stream",
     "text": [
      "Duplicate rows:\n",
      "       person_age  person_income person_home_ownership  person_emp_length  \\\n",
      "15975          23          42000                  RENT                5.0   \n",
      "15989          23          90000              MORTGAGE                7.0   \n",
      "15995          24          48000              MORTGAGE                4.0   \n",
      "16025          24          10000                  RENT                8.0   \n",
      "16028          23         100000              MORTGAGE                7.0   \n",
      "...           ...            ...                   ...                ...   \n",
      "32010          42          39996              MORTGAGE                2.0   \n",
      "32047          36         250000                  RENT                2.0   \n",
      "32172          49         120000              MORTGAGE               12.0   \n",
      "32259          39          40000                   OWN                4.0   \n",
      "32279          43          11340                  RENT                4.0   \n",
      "\n",
      "             loan_intent loan_grade  loan_amnt  loan_int_rate  loan_status  \\\n",
      "15975            VENTURE          B       6000           9.99            0   \n",
      "15989          EDUCATION          B       8000          10.36            0   \n",
      "15995            MEDICAL          A       4000           5.42            0   \n",
      "16025           PERSONAL          A       3000           7.90            1   \n",
      "16028          EDUCATION          A      15000           7.88            0   \n",
      "...                  ...        ...        ...            ...          ...   \n",
      "32010    HOMEIMPROVEMENT          A       2500           5.42            0   \n",
      "32047  DEBTCONSOLIDATION          A      20000           7.88            0   \n",
      "32172            MEDICAL          B      12000          10.99            0   \n",
      "32259            VENTURE          B       1000          10.37            0   \n",
      "32279          EDUCATION          C       1950            NaN            1   \n",
      "\n",
      "       loan_percent_income cb_person_default_on_file  \\\n",
      "15975                 0.14                         N   \n",
      "15989                 0.09                         N   \n",
      "15995                 0.08                         N   \n",
      "16025                 0.30                         N   \n",
      "16028                 0.15                         N   \n",
      "...                    ...                       ...   \n",
      "32010                 0.06                         N   \n",
      "32047                 0.08                         N   \n",
      "32172                 0.10                         N   \n",
      "32259                 0.03                         N   \n",
      "32279                 0.17                         N   \n",
      "\n",
      "       cb_person_cred_hist_length  \n",
      "15975                           4  \n",
      "15989                           3  \n",
      "15995                           4  \n",
      "16025                           3  \n",
      "16028                           4  \n",
      "...                           ...  \n",
      "32010                          12  \n",
      "32047                          17  \n",
      "32172                          12  \n",
      "32259                          16  \n",
      "32279                          11  \n",
      "\n",
      "[165 rows x 12 columns]\n"
     ]
    }
   ],
   "source": [
    "dup = cre[cre.duplicated()]\n",
    "print(\"Duplicate rows:\")\n",
    "print(dup)"
   ]
  },
  {
   "cell_type": "code",
   "execution_count": 8,
   "id": "b13d8d61",
   "metadata": {},
   "outputs": [],
   "source": [
    "cre.dropna(axis=0, inplace=True)"
   ]
  },
  {
   "cell_type": "code",
   "execution_count": 13,
   "id": "d906fe5c",
   "metadata": {},
   "outputs": [],
   "source": [
    "cre.drop_duplicates(inplace=True)"
   ]
  },
  {
   "cell_type": "code",
   "execution_count": 14,
   "id": "f09b204b",
   "metadata": {},
   "outputs": [
    {
     "data": {
      "text/plain": [
       "(28501, 12)"
      ]
     },
     "execution_count": 14,
     "metadata": {},
     "output_type": "execute_result"
    }
   ],
   "source": [
    "cre.shape"
   ]
  },
  {
   "cell_type": "code",
   "execution_count": 16,
   "id": "a013adf3",
   "metadata": {},
   "outputs": [],
   "source": [
    "correlation_df = cre[[\"loan_percent_income\",\"loan_status\"]]"
   ]
  },
  {
   "cell_type": "code",
   "execution_count": 19,
   "id": "6ba5cec8",
   "metadata": {},
   "outputs": [
    {
     "name": "stdout",
     "output_type": "stream",
     "text": [
      " Correlation Between Debt to Income RRatio and Default Rate: 0.3800\n"
     ]
    }
   ],
   "source": [
    "correlation = correlation_df[\"loan_percent_income\"].corr(correlation_df['loan_status'])\n",
    "print(f\" Correlation Between Debt to Income RRatio and Default Rate: {correlation:.4f}\")"
   ]
  },
  {
   "cell_type": "code",
   "execution_count": 22,
   "id": "21c675a4",
   "metadata": {},
   "outputs": [
    {
     "data": {
      "image/png": "[encoded data removed]",
      "text/plain": [
       "<Figure size 720x432 with 1 Axes>"
      ]
     },
     "metadata": {
      "needs_background": "light"
     },
     "output_type": "display_data"
    }
   ],
   "source": [
    "plt.figure(figsize=(10,6))\n",
    "sns.boxplot(y='loan_percent_income', x='loan_status', data=cre)\n",
    "plt.title('DFI Ratio VS Default Rate')\n",
    "plt.show()"
   ]
  },
  {
   "cell_type": "code",
   "execution_count": 23,
   "id": "8b9e813b",
   "metadata": {},
   "outputs": [
    {
     "name": "stdout",
     "output_type": "stream",
     "text": [
      "Ranking of Loan Intents by Default Count:\n",
      "         Loan Intent  Default Count  Average Loan Amount\n",
      "3            MEDICAL           1418         11373.748237\n",
      "0  DEBTCONSOLIDATION           1294         11316.750386\n",
      "1          EDUCATION            967         11160.082730\n",
      "4           PERSONAL            961         10708.896982\n",
      "2    HOMEIMPROVEMENT            820          9966.067073\n",
      "5            VENTURE            728         11304.910714\n",
      "\n",
      "Ranking of Loan Intents by Average Loan Amount:\n",
      "         Loan Intent  Default Count  Average Loan Amount\n",
      "3            MEDICAL           1418         11373.748237\n",
      "0  DEBTCONSOLIDATION           1294         11316.750386\n",
      "5            VENTURE            728         11304.910714\n",
      "1          EDUCATION            967         11160.082730\n",
      "4           PERSONAL            961         10708.896982\n",
      "2    HOMEIMPROVEMENT            820          9966.067073\n"
     ]
    },
    {
     "data": {
      "image/png": "[encoded data removed]",
      "text/plain": [
       "<Figure size 1008x504 with 2 Axes>"
      ]
     },
     "metadata": {
      "needs_background": "light"
     },
     "output_type": "display_data"
    }
   ],
   "source": [
    "default_cases = cre[cre[\"loan_status\"]==1]\n",
    "loan_intent_default_count = default_cases.groupby(\"loan_intent\")[\"loan_status\"].count().reset_index()\n",
    "loan_intent_default_count.columns = [\"Loan Intent\", \"Default Count\"]\n",
    "loan_intent_avg_loan_amount = default_cases.groupby(\"loan_intent\")[\"loan_amnt\"].mean().reset_index()\n",
    "loan_intent_avg_loan_amount.columns = [\"Loan Intent\", \"Average Loan Amount\"]\n",
    "loan_intent_default_summary = pd.merge(loan_intent_default_count, loan_intent_avg_loan_amount, on=\"Loan Intent\")\n",
    "loan_intent_default_summary = loan_intent_default_summary.sort_values(by='Default Count', ascending=False)\n",
    "defaultcount = loan_intent_default_summary.sort_values(by=\"Default Count\", ascending=False)\n",
    "print(\"Ranking of Loan Intents by Default Count:\")\n",
    "print(defaultcount)\n",
    "avgloanamount = loan_intent_default_summary.sort_values(by=\"Average Loan Amount\", ascending=False)\n",
    "print(\"\\nRanking of Loan Intents by Average Loan Amount:\")\n",
    "print(avgloanamount)\n",
    "fig, ax1 = plt.subplots(figsize=(14,7))\n",
    "sns.barplot(x=\"Default Count\", y=\"Loan Intent\", data=loan_intent_default_summary, palette=\"viridis\", ax=ax1)\n",
    "ax1.set_title(\"Count of Defaults by Loan Intent with Average Loan Amount\")\n",
    "ax1.set_xlabel(\"Count of Defaults\")\n",
    "ax1.set_ylabel(\"Loan Intent\")\n",
    "ax2 = ax1.twiny()\n",
    "sns.scatterplot(x=\"Average Loan Amount\", y=\"Loan Intent\", data=loan_intent_default_summary, color=\"red\", ax=ax2)\n",
    "ax2.set_xlabel(\"Average Loan Amount\")\n",
    "plt.show()"
   ]
  },
  {
   "cell_type": "code",
   "execution_count": 30,
   "id": "1b8981cf",
   "metadata": {},
   "outputs": [],
   "source": [
    "from sklearn.model_selection import train_test_split"
   ]
  },
  {
   "cell_type": "code",
   "execution_count": null,
   "id": "afd6185e",
   "metadata": {},
   "outputs": [],
   "source": []
  }
 ],
 "metadata": {
  "kernelspec": {
   "display_name": "Python 3 (ipykernel)",
   "language": "python",
   "name": "python3"
  },
  "language_info": {
   "codemirror_mode": {
    "name": "ipython",
    "version": 3
   },
   "file_extension": ".py",
   "mimetype": "text/x-python",
   "name": "python",
   "nbconvert_exporter": "python",
   "pygments_lexer": "ipython3",
   "version": "3.9.12"
  }
 },
 "nbformat": 4,
 "nbformat_minor": 5
}
